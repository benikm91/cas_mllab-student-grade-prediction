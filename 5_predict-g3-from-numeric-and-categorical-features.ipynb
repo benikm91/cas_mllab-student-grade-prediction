{
 "cells": [
  {
   "cell_type": "code",
   "execution_count": 40,
   "metadata": {
    "collapsed": true
   },
   "outputs": [],
   "source": [
    "import pandas as pd\n",
    "from collections import defaultdict\n",
    "from statistics import mean\n",
    "import numpy as np\n",
    "from sklearn.compose import make_column_transformer\n",
    "from sklearn.linear_model import LinearRegression\n",
    "from sklearn.metrics import mean_absolute_error, mean_squared_error\n",
    "from sklearn.model_selection import train_test_split, cross_val_score, cross_validate, cross_val_predict\n",
    "from sklearn.pipeline import Pipeline\n",
    "from sklearn.preprocessing import OneHotEncoder\n",
    "\n",
    "from util import get_preprocessed_train_data"
   ]
  },
  {
   "cell_type": "code",
   "execution_count": 41,
   "outputs": [
    {
     "data": {
      "text/plain": "              age        Medu        Fedu  traveltime   studytime    failures  \\\ncount  355.000000  355.000000  355.000000  355.000000  355.000000  355.000000   \nmean    16.698592    2.740845    2.540845    1.430986    2.028169    0.501408   \nstd      1.274200    1.092033    1.079022    0.695139    0.829741    2.481997   \nmin     15.000000    0.000000    0.000000    1.000000    1.000000    0.000000   \n25%     16.000000    2.000000    2.000000    1.000000    1.000000    0.000000   \n50%     17.000000    3.000000    3.000000    1.000000    2.000000    0.000000   \n75%     18.000000    4.000000    3.000000    2.000000    2.000000    0.000000   \nmax     22.000000    4.000000    4.000000    4.000000    4.000000   33.000000   \n\n           famrel    freetime       goout        Dalc        Walc      health  \\\ncount  333.000000  355.000000  355.000000  355.000000  355.000000  355.000000   \nmean     3.939940    3.492958    3.138028    1.484507    2.332394    3.557746   \nstd      0.903138    3.904485    1.127765    0.880846    1.294030    1.403754   \nmin      1.000000    1.000000    1.000000    1.000000    1.000000    1.000000   \n25%      4.000000    3.000000    2.000000    1.000000    1.000000    3.000000   \n50%      4.000000    3.000000    3.000000    1.000000    2.000000    4.000000   \n75%      5.000000    4.000000    4.000000    2.000000    3.000000    5.000000   \nmax      5.000000   56.000000    5.000000    5.000000    5.000000    5.000000   \n\n         absences          G1          G2          G3  \ncount  355.000000  355.000000  355.000000  355.000000  \nmean     5.667606    3.734507    3.673944    3.603521  \nstd      8.126955    0.815917    0.933444    1.133881  \nmin     -1.000000    2.250000    1.000000    1.000000  \n25%      0.000000    3.000000    3.250000    3.250000  \n50%      4.000000    3.750000    3.750000    3.750000  \n75%      8.000000    4.250000    4.250000    4.250000  \nmax     75.000000    5.750000    5.750000    6.000000  ",
      "text/html": "<div>\n<style scoped>\n    .dataframe tbody tr th:only-of-type {\n        vertical-align: middle;\n    }\n\n    .dataframe tbody tr th {\n        vertical-align: top;\n    }\n\n    .dataframe thead th {\n        text-align: right;\n    }\n</style>\n<table border=\"1\" class=\"dataframe\">\n  <thead>\n    <tr style=\"text-align: right;\">\n      <th></th>\n      <th>age</th>\n      <th>Medu</th>\n      <th>Fedu</th>\n      <th>traveltime</th>\n      <th>studytime</th>\n      <th>failures</th>\n      <th>famrel</th>\n      <th>freetime</th>\n      <th>goout</th>\n      <th>Dalc</th>\n      <th>Walc</th>\n      <th>health</th>\n      <th>absences</th>\n      <th>G1</th>\n      <th>G2</th>\n      <th>G3</th>\n    </tr>\n  </thead>\n  <tbody>\n    <tr>\n      <th>count</th>\n      <td>355.000000</td>\n      <td>355.000000</td>\n      <td>355.000000</td>\n      <td>355.000000</td>\n      <td>355.000000</td>\n      <td>355.000000</td>\n      <td>333.000000</td>\n      <td>355.000000</td>\n      <td>355.000000</td>\n      <td>355.000000</td>\n      <td>355.000000</td>\n      <td>355.000000</td>\n      <td>355.000000</td>\n      <td>355.000000</td>\n      <td>355.000000</td>\n      <td>355.000000</td>\n    </tr>\n    <tr>\n      <th>mean</th>\n      <td>16.698592</td>\n      <td>2.740845</td>\n      <td>2.540845</td>\n      <td>1.430986</td>\n      <td>2.028169</td>\n      <td>0.501408</td>\n      <td>3.939940</td>\n      <td>3.492958</td>\n      <td>3.138028</td>\n      <td>1.484507</td>\n      <td>2.332394</td>\n      <td>3.557746</td>\n      <td>5.667606</td>\n      <td>3.734507</td>\n      <td>3.673944</td>\n      <td>3.603521</td>\n    </tr>\n    <tr>\n      <th>std</th>\n      <td>1.274200</td>\n      <td>1.092033</td>\n      <td>1.079022</td>\n      <td>0.695139</td>\n      <td>0.829741</td>\n      <td>2.481997</td>\n      <td>0.903138</td>\n      <td>3.904485</td>\n      <td>1.127765</td>\n      <td>0.880846</td>\n      <td>1.294030</td>\n      <td>1.403754</td>\n      <td>8.126955</td>\n      <td>0.815917</td>\n      <td>0.933444</td>\n      <td>1.133881</td>\n    </tr>\n    <tr>\n      <th>min</th>\n      <td>15.000000</td>\n      <td>0.000000</td>\n      <td>0.000000</td>\n      <td>1.000000</td>\n      <td>1.000000</td>\n      <td>0.000000</td>\n      <td>1.000000</td>\n      <td>1.000000</td>\n      <td>1.000000</td>\n      <td>1.000000</td>\n      <td>1.000000</td>\n      <td>1.000000</td>\n      <td>-1.000000</td>\n      <td>2.250000</td>\n      <td>1.000000</td>\n      <td>1.000000</td>\n    </tr>\n    <tr>\n      <th>25%</th>\n      <td>16.000000</td>\n      <td>2.000000</td>\n      <td>2.000000</td>\n      <td>1.000000</td>\n      <td>1.000000</td>\n      <td>0.000000</td>\n      <td>4.000000</td>\n      <td>3.000000</td>\n      <td>2.000000</td>\n      <td>1.000000</td>\n      <td>1.000000</td>\n      <td>3.000000</td>\n      <td>0.000000</td>\n      <td>3.000000</td>\n      <td>3.250000</td>\n      <td>3.250000</td>\n    </tr>\n    <tr>\n      <th>50%</th>\n      <td>17.000000</td>\n      <td>3.000000</td>\n      <td>3.000000</td>\n      <td>1.000000</td>\n      <td>2.000000</td>\n      <td>0.000000</td>\n      <td>4.000000</td>\n      <td>3.000000</td>\n      <td>3.000000</td>\n      <td>1.000000</td>\n      <td>2.000000</td>\n      <td>4.000000</td>\n      <td>4.000000</td>\n      <td>3.750000</td>\n      <td>3.750000</td>\n      <td>3.750000</td>\n    </tr>\n    <tr>\n      <th>75%</th>\n      <td>18.000000</td>\n      <td>4.000000</td>\n      <td>3.000000</td>\n      <td>2.000000</td>\n      <td>2.000000</td>\n      <td>0.000000</td>\n      <td>5.000000</td>\n      <td>4.000000</td>\n      <td>4.000000</td>\n      <td>2.000000</td>\n      <td>3.000000</td>\n      <td>5.000000</td>\n      <td>8.000000</td>\n      <td>4.250000</td>\n      <td>4.250000</td>\n      <td>4.250000</td>\n    </tr>\n    <tr>\n      <th>max</th>\n      <td>22.000000</td>\n      <td>4.000000</td>\n      <td>4.000000</td>\n      <td>4.000000</td>\n      <td>4.000000</td>\n      <td>33.000000</td>\n      <td>5.000000</td>\n      <td>56.000000</td>\n      <td>5.000000</td>\n      <td>5.000000</td>\n      <td>5.000000</td>\n      <td>5.000000</td>\n      <td>75.000000</td>\n      <td>5.750000</td>\n      <td>5.750000</td>\n      <td>6.000000</td>\n    </tr>\n  </tbody>\n</table>\n</div>"
     },
     "execution_count": 41,
     "metadata": {},
     "output_type": "execute_result"
    }
   ],
   "source": [
    "data = get_preprocessed_train_data()\n",
    "data.describe()"
   ],
   "metadata": {
    "collapsed": false,
    "pycharm": {
     "name": "#%%\n"
    }
   }
  },
  {
   "cell_type": "code",
   "execution_count": 42,
   "outputs": [],
   "source": [
    "def train_and_predict(numeric_features, categorical_features, verbose=0):\n",
    "\n",
    "    df = data[['G3'] + numeric_features + categorical_features].dropna()\n",
    "\n",
    "    X_data = df.drop(columns=['G3'])[\n",
    "        numeric_features + categorical_features\n",
    "    ]\n",
    "    y_data = df['G3'].to_numpy()\n",
    "\n",
    "    pipeline = Pipeline([\n",
    "        ('pre', make_column_transformer((OneHotEncoder(handle_unknown='ignore'), categorical_features), remainder='passthrough')),\n",
    "        ('clf', LinearRegression())\n",
    "    ])\n",
    "\n",
    "    pipeline.fit(X_data, y_data)\n",
    "\n",
    "    y_pred_train = pipeline.predict(X_data)\n",
    "    y_pred_cv = cross_val_predict(pipeline, X_data, y_data, cv=5)\n",
    "\n",
    "    return y_data, y_pred_cv, y_pred_train\n",
    "\n",
    "\n",
    "def display_results(y_data, y_dev_pred):\n",
    "    for name, f in {'mae': mean_absolute_error,\n",
    "                    'mse': mean_squared_error}.items():\n",
    "        print(name + '\\t', f(y_data, y_dev_pred))\n",
    "\n"
   ],
   "metadata": {
    "collapsed": false,
    "pycharm": {
     "name": "#%%\n"
    }
   }
  },
  {
   "cell_type": "code",
   "execution_count": 43,
   "outputs": [
    {
     "name": "stdout",
     "output_type": "stream",
     "text": [
      "On Train Set\n",
      "mae\t 0.8323847401191417\n",
      "mse\t 1.2355342667859825\n",
      "On Validation Set (Cross Validation)\n",
      "mae\t 0.8459688102633277\n",
      "mse\t 1.265531805192244\n"
     ]
    }
   ],
   "source": [
    "y_data, y_pred_cv, y_pred_train = train_and_predict(\n",
    "    ['age', 'traveltime', 'absences'],\n",
    "    []\n",
    ")\n",
    "\n",
    "print(\"On Train Set\")\n",
    "display_results(y_data, y_pred_train)\n",
    "print(\"On Validation Set (Cross Validation)\")\n",
    "display_results(y_data, y_pred_cv)\n",
    "\n",
    "# Same as prev notebook"
   ],
   "metadata": {
    "collapsed": false,
    "pycharm": {
     "name": "#%%\n"
    }
   }
  },
  {
   "cell_type": "code",
   "execution_count": 44,
   "outputs": [
    {
     "name": "stdout",
     "output_type": "stream",
     "text": [
      "On Train Set\n",
      "mae\t 0.734595655780073\n",
      "mse\t 0.9141002862842418\n",
      "On Validation Set (Cross Validation)\n",
      "mae\t 0.907612728396189\n",
      "mse\t 1.376642004018053\n"
     ]
    }
   ],
   "source": [
    "y_data, y_pred_cv, y_pred_train = train_and_predict(\n",
    "    ['age', 'traveltime', 'absences'],\n",
    "    [ 'school', 'sex', 'address', 'famsize', 'Pstatus', 'Medu', 'Fedu', 'Mjob', 'Fjob', 'guardian', 'studytime', 'failures', 'schoolsup', 'famsup', 'paid', 'activities', 'nursery', 'higher', 'internet', 'romantic', 'famrel'],\n",
    ")\n",
    "\n",
    "print(\"On Train Set\")\n",
    "display_results(y_data, y_pred_train)\n",
    "print(\"On Validation Set (Cross Validation)\")\n",
    "display_results(y_data, y_pred_cv)\n",
    "\n",
    "# Why is this getting worse?"
   ],
   "metadata": {
    "collapsed": false,
    "pycharm": {
     "name": "#%%\n"
    }
   }
  },
  {
   "cell_type": "code",
   "execution_count": 45,
   "outputs": [
    {
     "name": "stdout",
     "output_type": "stream",
     "text": [
      "On Train Set\n",
      "mae\t 0.7812422155351836\n",
      "mse\t 1.0681549218397113\n",
      "On Validation Set (Cross Validation)\n",
      "mae\t 0.8131014336916683\n",
      "mse\t 1.1471462763130837\n"
     ]
    }
   ],
   "source": [
    "y_data, y_pred_cv, y_pred_train = train_and_predict(\n",
    "    ['age', 'absences'],\n",
    "    ['studytime', 'failures']\n",
    ")\n",
    "\n",
    "print(\"On Train Set\")\n",
    "display_results(y_data, y_pred_train)\n",
    "print(\"On Validation Set (Cross Validation)\")\n",
    "display_results(y_data, y_pred_cv)"
   ],
   "metadata": {
    "collapsed": false,
    "pycharm": {
     "name": "#%%\n"
    }
   }
  },
  {
   "cell_type": "markdown",
   "source": [
    "## Final linear model"
   ],
   "metadata": {
    "collapsed": false,
    "pycharm": {
     "name": "#%% md\n"
    }
   }
  },
  {
   "cell_type": "code",
   "execution_count": 46,
   "outputs": [
    {
     "data": {
      "text/plain": "Pipeline(steps=[('pre',\n                 ColumnTransformer(remainder='passthrough',\n                                   transformers=[('onehotencoder',\n                                                  OneHotEncoder(handle_unknown='ignore'),\n                                                  ['studytime', 'failures'])])),\n                ('clf', LinearRegression())])"
     },
     "execution_count": 46,
     "metadata": {},
     "output_type": "execute_result"
    }
   ],
   "source": [
    "numeric_features = ['age', 'absences']\n",
    "categorical_features = ['studytime', 'failures']\n",
    "\n",
    "df = data[['G3'] +\n",
    "    numeric_features + categorical_features\n",
    "].dropna()\n",
    "\n",
    "X_train = df.drop(columns=['G3'])\n",
    "y_train = df['G3'].to_numpy()\n",
    "\n",
    "pipeline = Pipeline([\n",
    "    ('pre', make_column_transformer((OneHotEncoder(handle_unknown='ignore'), categorical_features), remainder='passthrough')),\n",
    "    ('clf', LinearRegression())\n",
    "])\n",
    "\n",
    "pipeline.fit(X_train, y_train)"
   ],
   "metadata": {
    "collapsed": false,
    "pycharm": {
     "name": "#%%\n"
    }
   }
  },
  {
   "cell_type": "code",
   "execution_count": 47,
   "outputs": [],
   "source": [
    "X_test = pd.read_csv(\"test-data.csv\", index_col=0)[numeric_features + categorical_features]"
   ],
   "metadata": {
    "collapsed": false,
    "pycharm": {
     "name": "#%%\n"
    }
   }
  },
  {
   "cell_type": "code",
   "execution_count": 48,
   "outputs": [
    {
     "data": {
      "text/plain": "             age   absences  studytime   failures\ncount  40.000000  40.000000  40.000000  40.000000\nmean   16.675000   2.650000   2.100000   1.775000\nstd     1.308503   6.735098   0.928191   7.043773\nmin    15.000000  -1.000000   1.000000   0.000000\n25%    16.000000  -1.000000   1.000000   0.000000\n50%    16.500000   0.000000   2.000000   0.000000\n75%    18.000000   3.000000   3.000000   0.000000\nmax    20.000000  38.000000   4.000000  33.000000",
      "text/html": "<div>\n<style scoped>\n    .dataframe tbody tr th:only-of-type {\n        vertical-align: middle;\n    }\n\n    .dataframe tbody tr th {\n        vertical-align: top;\n    }\n\n    .dataframe thead th {\n        text-align: right;\n    }\n</style>\n<table border=\"1\" class=\"dataframe\">\n  <thead>\n    <tr style=\"text-align: right;\">\n      <th></th>\n      <th>age</th>\n      <th>absences</th>\n      <th>studytime</th>\n      <th>failures</th>\n    </tr>\n  </thead>\n  <tbody>\n    <tr>\n      <th>count</th>\n      <td>40.000000</td>\n      <td>40.000000</td>\n      <td>40.000000</td>\n      <td>40.000000</td>\n    </tr>\n    <tr>\n      <th>mean</th>\n      <td>16.675000</td>\n      <td>2.650000</td>\n      <td>2.100000</td>\n      <td>1.775000</td>\n    </tr>\n    <tr>\n      <th>std</th>\n      <td>1.308503</td>\n      <td>6.735098</td>\n      <td>0.928191</td>\n      <td>7.043773</td>\n    </tr>\n    <tr>\n      <th>min</th>\n      <td>15.000000</td>\n      <td>-1.000000</td>\n      <td>1.000000</td>\n      <td>0.000000</td>\n    </tr>\n    <tr>\n      <th>25%</th>\n      <td>16.000000</td>\n      <td>-1.000000</td>\n      <td>1.000000</td>\n      <td>0.000000</td>\n    </tr>\n    <tr>\n      <th>50%</th>\n      <td>16.500000</td>\n      <td>0.000000</td>\n      <td>2.000000</td>\n      <td>0.000000</td>\n    </tr>\n    <tr>\n      <th>75%</th>\n      <td>18.000000</td>\n      <td>3.000000</td>\n      <td>3.000000</td>\n      <td>0.000000</td>\n    </tr>\n    <tr>\n      <th>max</th>\n      <td>20.000000</td>\n      <td>38.000000</td>\n      <td>4.000000</td>\n      <td>33.000000</td>\n    </tr>\n  </tbody>\n</table>\n</div>"
     },
     "execution_count": 48,
     "metadata": {},
     "output_type": "execute_result"
    }
   ],
   "source": [
    "X_test.describe()"
   ],
   "metadata": {
    "collapsed": false,
    "pycharm": {
     "name": "#%%\n"
    }
   }
  },
  {
   "cell_type": "code",
   "execution_count": 49,
   "outputs": [],
   "source": [
    "y_test_pred = final_model.predict(X_test)"
   ],
   "metadata": {
    "collapsed": false,
    "pycharm": {
     "name": "#%%\n"
    }
   }
  },
  {
   "cell_type": "code",
   "execution_count": 50,
   "outputs": [],
   "source": [
    "X_test_submission = pd.DataFrame(index=X_test.index)\n",
    "X_test_submission['G3'] = y_test_pred\n",
    "X_test_submission.to_csv('linear_submission.csv', header=True, index_label='id')"
   ],
   "metadata": {
    "collapsed": false,
    "pycharm": {
     "name": "#%%\n"
    }
   }
  }
 ],
 "metadata": {
  "kernelspec": {
   "display_name": "Python 3",
   "language": "python",
   "name": "python3"
  },
  "language_info": {
   "codemirror_mode": {
    "name": "ipython",
    "version": 2
   },
   "file_extension": ".py",
   "mimetype": "text/x-python",
   "name": "python",
   "nbconvert_exporter": "python",
   "pygments_lexer": "ipython2",
   "version": "2.7.6"
  }
 },
 "nbformat": 4,
 "nbformat_minor": 0
}