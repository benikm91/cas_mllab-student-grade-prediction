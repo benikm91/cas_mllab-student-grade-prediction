{
 "cells": [
  {
   "cell_type": "code",
   "execution_count": 1,
   "metadata": {
    "collapsed": true
   },
   "outputs": [],
   "source": [
    "import numpy as np\n",
    "from sklearn.linear_model import LinearRegression\n",
    "from sklearn.metrics import mean_absolute_error, mean_squared_error\n",
    "from sklearn.model_selection import train_test_split\n",
    "from sklearn.pipeline import Pipeline\n",
    "\n",
    "from util import get_preprocessed_train_data"
   ]
  },
  {
   "cell_type": "code",
   "execution_count": 2,
   "outputs": [
    {
     "data": {
      "text/plain": "              age        Medu        Fedu  traveltime   studytime    failures  \\\ncount  355.000000  355.000000  355.000000  355.000000  355.000000  355.000000   \nmean    16.698592    2.740845    2.540845    1.430986    2.028169    0.501408   \nstd      1.274200    1.092033    1.079022    0.695139    0.829741    2.481997   \nmin     15.000000    0.000000    0.000000    1.000000    1.000000    0.000000   \n25%     16.000000    2.000000    2.000000    1.000000    1.000000    0.000000   \n50%     17.000000    3.000000    3.000000    1.000000    2.000000    0.000000   \n75%     18.000000    4.000000    3.000000    2.000000    2.000000    0.000000   \nmax     22.000000    4.000000    4.000000    4.000000    4.000000   33.000000   \n\n           famrel    freetime       goout        Dalc        Walc      health  \\\ncount  333.000000  355.000000  355.000000  355.000000  355.000000  355.000000   \nmean     3.939940    3.492958    3.138028    1.484507    2.332394    3.557746   \nstd      0.903138    3.904485    1.127765    0.880846    1.294030    1.403754   \nmin      1.000000    1.000000    1.000000    1.000000    1.000000    1.000000   \n25%      4.000000    3.000000    2.000000    1.000000    1.000000    3.000000   \n50%      4.000000    3.000000    3.000000    1.000000    2.000000    4.000000   \n75%      5.000000    4.000000    4.000000    2.000000    3.000000    5.000000   \nmax      5.000000   56.000000    5.000000    5.000000    5.000000    5.000000   \n\n         absences          G1          G2          G3       G_avg  \ncount  355.000000  355.000000  355.000000  355.000000  355.000000  \nmean     5.667606    3.734507    3.673944    3.603521    3.670657  \nstd      8.126955    0.815917    0.933444    1.133881    0.913496  \nmin     -1.000000    2.250000    1.000000    1.000000    1.416667  \n25%      0.000000    3.000000    3.250000    3.250000    3.083333  \n50%      4.000000    3.750000    3.750000    3.750000    3.666667  \n75%      8.000000    4.250000    4.250000    4.250000    4.333333  \nmax     75.000000    5.750000    5.750000    6.000000    5.833333  ",
      "text/html": "<div>\n<style scoped>\n    .dataframe tbody tr th:only-of-type {\n        vertical-align: middle;\n    }\n\n    .dataframe tbody tr th {\n        vertical-align: top;\n    }\n\n    .dataframe thead th {\n        text-align: right;\n    }\n</style>\n<table border=\"1\" class=\"dataframe\">\n  <thead>\n    <tr style=\"text-align: right;\">\n      <th></th>\n      <th>age</th>\n      <th>Medu</th>\n      <th>Fedu</th>\n      <th>traveltime</th>\n      <th>studytime</th>\n      <th>failures</th>\n      <th>famrel</th>\n      <th>freetime</th>\n      <th>goout</th>\n      <th>Dalc</th>\n      <th>Walc</th>\n      <th>health</th>\n      <th>absences</th>\n      <th>G1</th>\n      <th>G2</th>\n      <th>G3</th>\n      <th>G_avg</th>\n    </tr>\n  </thead>\n  <tbody>\n    <tr>\n      <th>count</th>\n      <td>355.000000</td>\n      <td>355.000000</td>\n      <td>355.000000</td>\n      <td>355.000000</td>\n      <td>355.000000</td>\n      <td>355.000000</td>\n      <td>333.000000</td>\n      <td>355.000000</td>\n      <td>355.000000</td>\n      <td>355.000000</td>\n      <td>355.000000</td>\n      <td>355.000000</td>\n      <td>355.000000</td>\n      <td>355.000000</td>\n      <td>355.000000</td>\n      <td>355.000000</td>\n      <td>355.000000</td>\n    </tr>\n    <tr>\n      <th>mean</th>\n      <td>16.698592</td>\n      <td>2.740845</td>\n      <td>2.540845</td>\n      <td>1.430986</td>\n      <td>2.028169</td>\n      <td>0.501408</td>\n      <td>3.939940</td>\n      <td>3.492958</td>\n      <td>3.138028</td>\n      <td>1.484507</td>\n      <td>2.332394</td>\n      <td>3.557746</td>\n      <td>5.667606</td>\n      <td>3.734507</td>\n      <td>3.673944</td>\n      <td>3.603521</td>\n      <td>3.670657</td>\n    </tr>\n    <tr>\n      <th>std</th>\n      <td>1.274200</td>\n      <td>1.092033</td>\n      <td>1.079022</td>\n      <td>0.695139</td>\n      <td>0.829741</td>\n      <td>2.481997</td>\n      <td>0.903138</td>\n      <td>3.904485</td>\n      <td>1.127765</td>\n      <td>0.880846</td>\n      <td>1.294030</td>\n      <td>1.403754</td>\n      <td>8.126955</td>\n      <td>0.815917</td>\n      <td>0.933444</td>\n      <td>1.133881</td>\n      <td>0.913496</td>\n    </tr>\n    <tr>\n      <th>min</th>\n      <td>15.000000</td>\n      <td>0.000000</td>\n      <td>0.000000</td>\n      <td>1.000000</td>\n      <td>1.000000</td>\n      <td>0.000000</td>\n      <td>1.000000</td>\n      <td>1.000000</td>\n      <td>1.000000</td>\n      <td>1.000000</td>\n      <td>1.000000</td>\n      <td>1.000000</td>\n      <td>-1.000000</td>\n      <td>2.250000</td>\n      <td>1.000000</td>\n      <td>1.000000</td>\n      <td>1.416667</td>\n    </tr>\n    <tr>\n      <th>25%</th>\n      <td>16.000000</td>\n      <td>2.000000</td>\n      <td>2.000000</td>\n      <td>1.000000</td>\n      <td>1.000000</td>\n      <td>0.000000</td>\n      <td>4.000000</td>\n      <td>3.000000</td>\n      <td>2.000000</td>\n      <td>1.000000</td>\n      <td>1.000000</td>\n      <td>3.000000</td>\n      <td>0.000000</td>\n      <td>3.000000</td>\n      <td>3.250000</td>\n      <td>3.250000</td>\n      <td>3.083333</td>\n    </tr>\n    <tr>\n      <th>50%</th>\n      <td>17.000000</td>\n      <td>3.000000</td>\n      <td>3.000000</td>\n      <td>1.000000</td>\n      <td>2.000000</td>\n      <td>0.000000</td>\n      <td>4.000000</td>\n      <td>3.000000</td>\n      <td>3.000000</td>\n      <td>1.000000</td>\n      <td>2.000000</td>\n      <td>4.000000</td>\n      <td>4.000000</td>\n      <td>3.750000</td>\n      <td>3.750000</td>\n      <td>3.750000</td>\n      <td>3.666667</td>\n    </tr>\n    <tr>\n      <th>75%</th>\n      <td>18.000000</td>\n      <td>4.000000</td>\n      <td>3.000000</td>\n      <td>2.000000</td>\n      <td>2.000000</td>\n      <td>0.000000</td>\n      <td>5.000000</td>\n      <td>4.000000</td>\n      <td>4.000000</td>\n      <td>2.000000</td>\n      <td>3.000000</td>\n      <td>5.000000</td>\n      <td>8.000000</td>\n      <td>4.250000</td>\n      <td>4.250000</td>\n      <td>4.250000</td>\n      <td>4.333333</td>\n    </tr>\n    <tr>\n      <th>max</th>\n      <td>22.000000</td>\n      <td>4.000000</td>\n      <td>4.000000</td>\n      <td>4.000000</td>\n      <td>4.000000</td>\n      <td>33.000000</td>\n      <td>5.000000</td>\n      <td>56.000000</td>\n      <td>5.000000</td>\n      <td>5.000000</td>\n      <td>5.000000</td>\n      <td>5.000000</td>\n      <td>75.000000</td>\n      <td>5.750000</td>\n      <td>5.750000</td>\n      <td>6.000000</td>\n      <td>5.833333</td>\n    </tr>\n  </tbody>\n</table>\n</div>"
     },
     "execution_count": 2,
     "metadata": {},
     "output_type": "execute_result"
    }
   ],
   "source": [
    "data = get_preprocessed_train_data()\n",
    "data.describe()"
   ],
   "metadata": {
    "collapsed": false,
    "pycharm": {
     "name": "#%%\n"
    }
   }
  },
  {
   "cell_type": "code",
   "execution_count": 3,
   "outputs": [],
   "source": [
    "# reason not used as to many values missing.\n",
    "data = data.drop(columns=['reason'])\n",
    "\n",
    "X_data = data.drop(columns=['G1', 'G2', 'G3'])[\n",
    "    ['age', 'traveltime', 'absences']\n",
    "]\n",
    "y_data = data['G3'].to_numpy()"
   ],
   "metadata": {
    "collapsed": false,
    "pycharm": {
     "name": "#%%\n"
    }
   }
  },
  {
   "cell_type": "code",
   "execution_count": 4,
   "outputs": [],
   "source": [
    "X_train, X_dev, y_train, y_dev = train_test_split(X_data, y_data, test_size=0.1, random_state=42)"
   ],
   "metadata": {
    "collapsed": false,
    "pycharm": {
     "name": "#%%\n"
    }
   }
  },
  {
   "cell_type": "code",
   "execution_count": 5,
   "outputs": [],
   "source": [
    "def mean_absolute_percentage_error(y_true, y_pred):\n",
    "    return np.mean(np.abs((y_true - y_pred) / y_true)) * 100"
   ],
   "metadata": {
    "collapsed": false,
    "pycharm": {
     "name": "#%%\n"
    }
   }
  },
  {
   "cell_type": "code",
   "execution_count": 6,
   "outputs": [],
   "source": [
    "pipeline = Pipeline([\n",
    "    ('clf', LinearRegression())\n",
    "])"
   ],
   "metadata": {
    "collapsed": false,
    "pycharm": {
     "name": "#%%\n"
    }
   }
  },
  {
   "cell_type": "code",
   "execution_count": 7,
   "outputs": [
    {
     "data": {
      "text/plain": "Pipeline(steps=[('clf', LinearRegression())])"
     },
     "execution_count": 7,
     "metadata": {},
     "output_type": "execute_result"
    }
   ],
   "source": [
    "pipeline.fit(X_train, y_train)"
   ],
   "metadata": {
    "collapsed": false,
    "pycharm": {
     "name": "#%%\n"
    }
   }
  },
  {
   "cell_type": "code",
   "execution_count": 8,
   "outputs": [],
   "source": [
    "y_dev_pred = pipeline.predict(X_dev)"
   ],
   "metadata": {
    "collapsed": false,
    "pycharm": {
     "name": "#%%\n"
    }
   }
  },
  {
   "cell_type": "code",
   "execution_count": 9,
   "outputs": [
    {
     "name": "stdout",
     "output_type": "stream",
     "text": [
      "mae 0.6684448211666338\n",
      "mse 0.9497202046635166\n",
      "mape 37.05283673609836\n"
     ]
    }
   ],
   "source": [
    "for name, f in {'mae': mean_absolute_error,\n",
    "                'mse': mean_squared_error,\n",
    "                'mape': mean_absolute_percentage_error}.items():\n",
    "    print(name, f(y_dev, y_dev_pred))"
   ],
   "metadata": {
    "collapsed": false,
    "pycharm": {
     "name": "#%%\n"
    }
   }
  }
 ],
 "metadata": {
  "kernelspec": {
   "display_name": "Python 3",
   "language": "python",
   "name": "python3"
  },
  "language_info": {
   "codemirror_mode": {
    "name": "ipython",
    "version": 2
   },
   "file_extension": ".py",
   "mimetype": "text/x-python",
   "name": "python",
   "nbconvert_exporter": "python",
   "pygments_lexer": "ipython2",
   "version": "2.7.6"
  }
 },
 "nbformat": 4,
 "nbformat_minor": 0
}