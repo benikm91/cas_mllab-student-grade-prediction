{
 "cells": [
  {
   "cell_type": "code",
   "execution_count": 37,
   "metadata": {
    "collapsed": true
   },
   "outputs": [],
   "source": [
    "import numpy as np\n",
    "from sklearn.linear_model import LinearRegression\n",
    "from sklearn.metrics import mean_absolute_error, mean_squared_error\n",
    "from sklearn.model_selection import train_test_split\n",
    "from sklearn.pipeline import Pipeline\n",
    "\n",
    "from util import get_preprocessed_train_data"
   ]
  },
  {
   "cell_type": "code",
   "execution_count": 38,
   "outputs": [
    {
     "data": {
      "text/plain": "       Unnamed: 0         age        Medu        Fedu  traveltime   studytime  \\\ncount  355.000000  355.000000  355.000000  355.000000  355.000000  355.000000   \nmean   177.000000   16.698592    2.740845    2.540845    1.430986    2.028169   \nstd    102.623909    1.274200    1.092033    1.079022    0.695139    0.829741   \nmin      0.000000   15.000000    0.000000    0.000000    1.000000    1.000000   \n25%     88.500000   16.000000    2.000000    2.000000    1.000000    1.000000   \n50%    177.000000   17.000000    3.000000    3.000000    1.000000    2.000000   \n75%    265.500000   18.000000    4.000000    3.000000    2.000000    2.000000   \nmax    354.000000   22.000000    4.000000    4.000000    4.000000    4.000000   \n\n         failures      famrel    freetime       goout        Dalc        Walc  \\\ncount  355.000000  333.000000  355.000000  355.000000  355.000000  355.000000   \nmean     0.338028    3.939940    3.219718    3.138028    1.484507    2.332394   \nstd      0.746814    0.903138    1.009646    1.127765    0.880846    1.294030   \nmin      0.000000    1.000000    1.000000    1.000000    1.000000    1.000000   \n25%      0.000000    4.000000    3.000000    2.000000    1.000000    1.000000   \n50%      0.000000    4.000000    3.000000    3.000000    1.000000    2.000000   \n75%      0.000000    5.000000    4.000000    4.000000    2.000000    3.000000   \nmax      3.000000    5.000000    5.000000    5.000000    5.000000    5.000000   \n\n           health    absences          G1          G2         G3       G_avg  \ncount  355.000000  355.000000  355.000000  355.000000  355.00000  355.000000  \nmean     3.557746    5.667606    1.933627    1.918486    1.90088    1.917664  \nstd      1.403754    8.126955    0.203979    0.233361    0.28347    0.228374  \nmin      1.000000   -1.000000    1.562500    1.250000    1.25000    1.354167  \n25%      3.000000    0.000000    1.750000    1.812500    1.81250    1.770833  \n50%      4.000000    4.000000    1.937500    1.937500    1.93750    1.916667  \n75%      5.000000    8.000000    2.062500    2.062500    2.06250    2.083333  \nmax      5.000000   75.000000    2.437500    2.437500    2.50000    2.458333  ",
      "text/html": "<div>\n<style scoped>\n    .dataframe tbody tr th:only-of-type {\n        vertical-align: middle;\n    }\n\n    .dataframe tbody tr th {\n        vertical-align: top;\n    }\n\n    .dataframe thead th {\n        text-align: right;\n    }\n</style>\n<table border=\"1\" class=\"dataframe\">\n  <thead>\n    <tr style=\"text-align: right;\">\n      <th></th>\n      <th>Unnamed: 0</th>\n      <th>age</th>\n      <th>Medu</th>\n      <th>Fedu</th>\n      <th>traveltime</th>\n      <th>studytime</th>\n      <th>failures</th>\n      <th>famrel</th>\n      <th>freetime</th>\n      <th>goout</th>\n      <th>Dalc</th>\n      <th>Walc</th>\n      <th>health</th>\n      <th>absences</th>\n      <th>G1</th>\n      <th>G2</th>\n      <th>G3</th>\n      <th>G_avg</th>\n    </tr>\n  </thead>\n  <tbody>\n    <tr>\n      <th>count</th>\n      <td>355.000000</td>\n      <td>355.000000</td>\n      <td>355.000000</td>\n      <td>355.000000</td>\n      <td>355.000000</td>\n      <td>355.000000</td>\n      <td>355.000000</td>\n      <td>333.000000</td>\n      <td>355.000000</td>\n      <td>355.000000</td>\n      <td>355.000000</td>\n      <td>355.000000</td>\n      <td>355.000000</td>\n      <td>355.000000</td>\n      <td>355.000000</td>\n      <td>355.000000</td>\n      <td>355.00000</td>\n      <td>355.000000</td>\n    </tr>\n    <tr>\n      <th>mean</th>\n      <td>177.000000</td>\n      <td>16.698592</td>\n      <td>2.740845</td>\n      <td>2.540845</td>\n      <td>1.430986</td>\n      <td>2.028169</td>\n      <td>0.338028</td>\n      <td>3.939940</td>\n      <td>3.219718</td>\n      <td>3.138028</td>\n      <td>1.484507</td>\n      <td>2.332394</td>\n      <td>3.557746</td>\n      <td>5.667606</td>\n      <td>1.933627</td>\n      <td>1.918486</td>\n      <td>1.90088</td>\n      <td>1.917664</td>\n    </tr>\n    <tr>\n      <th>std</th>\n      <td>102.623909</td>\n      <td>1.274200</td>\n      <td>1.092033</td>\n      <td>1.079022</td>\n      <td>0.695139</td>\n      <td>0.829741</td>\n      <td>0.746814</td>\n      <td>0.903138</td>\n      <td>1.009646</td>\n      <td>1.127765</td>\n      <td>0.880846</td>\n      <td>1.294030</td>\n      <td>1.403754</td>\n      <td>8.126955</td>\n      <td>0.203979</td>\n      <td>0.233361</td>\n      <td>0.28347</td>\n      <td>0.228374</td>\n    </tr>\n    <tr>\n      <th>min</th>\n      <td>0.000000</td>\n      <td>15.000000</td>\n      <td>0.000000</td>\n      <td>0.000000</td>\n      <td>1.000000</td>\n      <td>1.000000</td>\n      <td>0.000000</td>\n      <td>1.000000</td>\n      <td>1.000000</td>\n      <td>1.000000</td>\n      <td>1.000000</td>\n      <td>1.000000</td>\n      <td>1.000000</td>\n      <td>-1.000000</td>\n      <td>1.562500</td>\n      <td>1.250000</td>\n      <td>1.25000</td>\n      <td>1.354167</td>\n    </tr>\n    <tr>\n      <th>25%</th>\n      <td>88.500000</td>\n      <td>16.000000</td>\n      <td>2.000000</td>\n      <td>2.000000</td>\n      <td>1.000000</td>\n      <td>1.000000</td>\n      <td>0.000000</td>\n      <td>4.000000</td>\n      <td>3.000000</td>\n      <td>2.000000</td>\n      <td>1.000000</td>\n      <td>1.000000</td>\n      <td>3.000000</td>\n      <td>0.000000</td>\n      <td>1.750000</td>\n      <td>1.812500</td>\n      <td>1.81250</td>\n      <td>1.770833</td>\n    </tr>\n    <tr>\n      <th>50%</th>\n      <td>177.000000</td>\n      <td>17.000000</td>\n      <td>3.000000</td>\n      <td>3.000000</td>\n      <td>1.000000</td>\n      <td>2.000000</td>\n      <td>0.000000</td>\n      <td>4.000000</td>\n      <td>3.000000</td>\n      <td>3.000000</td>\n      <td>1.000000</td>\n      <td>2.000000</td>\n      <td>4.000000</td>\n      <td>4.000000</td>\n      <td>1.937500</td>\n      <td>1.937500</td>\n      <td>1.93750</td>\n      <td>1.916667</td>\n    </tr>\n    <tr>\n      <th>75%</th>\n      <td>265.500000</td>\n      <td>18.000000</td>\n      <td>4.000000</td>\n      <td>3.000000</td>\n      <td>2.000000</td>\n      <td>2.000000</td>\n      <td>0.000000</td>\n      <td>5.000000</td>\n      <td>4.000000</td>\n      <td>4.000000</td>\n      <td>2.000000</td>\n      <td>3.000000</td>\n      <td>5.000000</td>\n      <td>8.000000</td>\n      <td>2.062500</td>\n      <td>2.062500</td>\n      <td>2.06250</td>\n      <td>2.083333</td>\n    </tr>\n    <tr>\n      <th>max</th>\n      <td>354.000000</td>\n      <td>22.000000</td>\n      <td>4.000000</td>\n      <td>4.000000</td>\n      <td>4.000000</td>\n      <td>4.000000</td>\n      <td>3.000000</td>\n      <td>5.000000</td>\n      <td>5.000000</td>\n      <td>5.000000</td>\n      <td>5.000000</td>\n      <td>5.000000</td>\n      <td>5.000000</td>\n      <td>75.000000</td>\n      <td>2.437500</td>\n      <td>2.437500</td>\n      <td>2.50000</td>\n      <td>2.458333</td>\n    </tr>\n  </tbody>\n</table>\n</div>"
     },
     "execution_count": 38,
     "metadata": {},
     "output_type": "execute_result"
    }
   ],
   "source": [
    "data = get_preprocessed_train_data()\n",
    "data.describe()"
   ],
   "metadata": {
    "collapsed": false,
    "pycharm": {
     "name": "#%%\n"
    }
   }
  },
  {
   "cell_type": "code",
   "execution_count": 39,
   "outputs": [],
   "source": [
    "# reason not used as to many values missing.\n",
    "data = data.drop(columns=['reason'])\n",
    "\n",
    "X_data = data.drop(columns=['G1', 'G2', 'G3'])[\n",
    "    ['age', 'traveltime', 'absences']\n",
    "]\n",
    "y_data = data['G3'].to_numpy()"
   ],
   "metadata": {
    "collapsed": false,
    "pycharm": {
     "name": "#%%\n"
    }
   }
  },
  {
   "cell_type": "code",
   "execution_count": 40,
   "outputs": [],
   "source": [
    "X_train, X_dev, y_train, y_dev = train_test_split(X_data, y_data, test_size=0.1, random_state=42)"
   ],
   "metadata": {
    "collapsed": false,
    "pycharm": {
     "name": "#%%\n"
    }
   }
  },
  {
   "cell_type": "code",
   "execution_count": 41,
   "outputs": [],
   "source": [
    "def mean_absolute_percentage_error(y_true, y_pred):\n",
    "    return np.mean(np.abs((y_true - y_pred) / y_true)) * 100"
   ],
   "metadata": {
    "collapsed": false,
    "pycharm": {
     "name": "#%%\n"
    }
   }
  },
  {
   "cell_type": "code",
   "execution_count": 42,
   "outputs": [],
   "source": [
    "pipeline = Pipeline([\n",
    "    ('clf', LinearRegression())\n",
    "])"
   ],
   "metadata": {
    "collapsed": false,
    "pycharm": {
     "name": "#%%\n"
    }
   }
  },
  {
   "cell_type": "code",
   "execution_count": 43,
   "outputs": [
    {
     "data": {
      "text/plain": "Pipeline(steps=[('clf', LinearRegression())])"
     },
     "execution_count": 43,
     "metadata": {},
     "output_type": "execute_result"
    }
   ],
   "source": [
    "pipeline.fit(X_train, y_train)"
   ],
   "metadata": {
    "collapsed": false,
    "pycharm": {
     "name": "#%%\n"
    }
   }
  },
  {
   "cell_type": "code",
   "execution_count": 44,
   "outputs": [],
   "source": [
    "y_dev_pred = pipeline.predict(X_dev)"
   ],
   "metadata": {
    "collapsed": false,
    "pycharm": {
     "name": "#%%\n"
    }
   }
  },
  {
   "cell_type": "code",
   "execution_count": 45,
   "outputs": [
    {
     "name": "stdout",
     "output_type": "stream",
     "text": [
      "mae 0.2046530459096228\n",
      "mse 0.07553727757630523\n",
      "mape 12.175256715412525\n"
     ]
    }
   ],
   "source": [
    "for name, f in {'mae': mean_absolute_error,\n",
    "                'mse': mean_squared_error,\n",
    "                'mape': mean_absolute_percentage_error}.items():\n",
    "    print(name, f(y_dev, y_dev_pred))"
   ],
   "metadata": {
    "collapsed": false,
    "pycharm": {
     "name": "#%%\n"
    }
   }
  }
 ],
 "metadata": {
  "kernelspec": {
   "display_name": "Python 3",
   "language": "python",
   "name": "python3"
  },
  "language_info": {
   "codemirror_mode": {
    "name": "ipython",
    "version": 2
   },
   "file_extension": ".py",
   "mimetype": "text/x-python",
   "name": "python",
   "nbconvert_exporter": "python",
   "pygments_lexer": "ipython2",
   "version": "2.7.6"
  }
 },
 "nbformat": 4,
 "nbformat_minor": 0
}