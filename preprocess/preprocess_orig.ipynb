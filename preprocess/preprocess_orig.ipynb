{
 "cells": [
  {
   "cell_type": "code",
   "execution_count": 22,
   "metadata": {},
   "outputs": [],
   "source": [
    "from sklearn.model_selection import train_test_split\n",
    "import pandas as pd"
   ]
  },
  {
   "cell_type": "code",
   "execution_count": 23,
   "metadata": {},
   "outputs": [],
   "source": [
    "def preprocess(df: pd.DataFrame) -> pd.DataFrame:\n",
    "    def to_swiss_grade(grade, max_grade = 20):\n",
    "        return grade / max_grade * 5 + 1\n",
    "    df.loc[:, ['G1', 'G2', 'G3']] = df[['G1', 'G2', 'G3']].apply(to_swiss_grade)\n",
    "    return df"
   ]
  },
  {
   "cell_type": "code",
   "execution_count": 24,
   "metadata": {},
   "outputs": [],
   "source": [
    "def make_dirty(df: pd.DataFrame):\n",
    "    def deterministic_suffle(df: pd.DataFrame):\n",
    "        return df.sample(frac=1, random_state=42)\n",
    "    \n",
    "    df = deterministic_suffle(df)\n",
    "    \n",
    "    # A few \"unknown\" for features about family. We can interpolate them later\n",
    "    fam_cols = ['famsize', 'famsup', 'famrel']\n",
    "    df.loc[df.index[1:23], fam_cols] = None\n",
    "    df = deterministic_suffle(df)\n",
    "    \n",
    "    # A lot \"unknown\" for reason, so we can simply drop reason feature later\n",
    "    df.loc[df.index[1:311], ['reason']] = None\n",
    "    df = deterministic_suffle(df)\n",
    "    \n",
    "    # -1 in absence for \"unknown\"\n",
    "    df.loc[df.index[1:12], ['absences']] = -1\n",
    "    \n",
    "    # make outliers\n",
    "    df = df.sort_values('freetime')\n",
    "    df.loc[df.index[-1], ['freetime']] = 51\n",
    "    df.loc[df.index[-2], ['freetime']] = 56\n",
    "    \n",
    "    df = df.sort_values('failures')\n",
    "    df.loc[df.index[-1], ['failures']] = 33\n",
    "    df.loc[df.index[-2], ['failures']] = 30\n",
    "    df.loc[df.index[-2], ['failures']] = 31\n",
    "    \n",
    "    return deterministic_suffle(df).reset_index(drop=True)"
   ]
  },
  {
   "cell_type": "code",
   "execution_count": 25,
   "metadata": {},
   "outputs": [],
   "source": [
    "data = preprocess(pd.read_csv('student-mat-orig.csv'))\n",
    "\n",
    "data_train, data_test = train_test_split(data, test_size=0.1, random_state=42)\n",
    "\n",
    "data_train = make_dirty(data_train)\n",
    "data_test = make_dirty(data_test.reset_index(drop=True))\n",
    "\n",
    "data_train.to_csv('../student-mat-train.csv', header=True, index_label='id')\n",
    "data_test.drop(columns=['G1', 'G2', 'G3']).to_csv('../student-mat-test-features-only.csv', header=True, index_label='id')\n",
    "data_test[['G3']].to_csv('../student-mat-test-g3-only.csv', header=True, index_label='id')\n",
    "data_test.to_csv('../student-mat-test.csv', header=True, index_label='id')"
   ]
  },
  {
   "cell_type": "code",
   "execution_count": 25,
   "metadata": {},
   "outputs": [],
   "source": []
  }
 ],
 "metadata": {
  "kernelspec": {
   "name": "python3",
   "language": "python",
   "display_name": "Python 3"
  },
  "language_info": {
   "codemirror_mode": {
    "name": "ipython",
    "version": 3
   },
   "file_extension": ".py",
   "mimetype": "text/x-python",
   "name": "python",
   "nbconvert_exporter": "python",
   "pygments_lexer": "ipython3",
   "version": "3.8.2"
  }
 },
 "nbformat": 4,
 "nbformat_minor": 4
}