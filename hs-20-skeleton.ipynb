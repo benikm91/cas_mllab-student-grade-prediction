{
 "cells": [
  {
   "metadata": {
    "_uuid": "8f2839f25d086af736a60e9eeb907d3b93b6e0e5",
    "_cell_guid": "b1076dfc-b9ad-4769-8c92-a6c4dae69d19",
    "trusted": true
   },
   "cell_type": "code",
   "source": [
    "import pandas as pd\n",
    "import numpy as np\n",
    "from sklearn.model_selection import train_test_split\n",
    "from sklearn.metrics import mean_absolute_error"
   ],
   "execution_count": 40,
   "outputs": []
  },
  {
   "metadata": {
    "_uuid": "d629ff2d2480ee46fbb7e2d37f6b5fab8052498a",
    "_cell_guid": "79c7e3d0-c299-4dcb-8224-4455121ee9b0",
    "trusted": true
   },
   "cell_type": "code",
   "source": [
    "train_data = pd.read_csv(\"train-data.csv\", index_col=0)"
   ],
   "execution_count": 41,
   "outputs": []
  },
  {
   "metadata": {
    "trusted": true
   },
   "cell_type": "code",
   "source": [
    "train_data.shape"
   ],
   "execution_count": 42,
   "outputs": [
    {
     "data": {
      "text/plain": "(355, 33)"
     },
     "execution_count": 42,
     "metadata": {},
     "output_type": "execute_result"
    }
   ]
  },
  {
   "metadata": {
    "trusted": true
   },
   "cell_type": "code",
   "source": [
    "train_data.describe()"
   ],
   "execution_count": 43,
   "outputs": [
    {
     "data": {
      "text/plain": "              age        Medu        Fedu  traveltime   studytime    failures  \\\ncount  355.000000  355.000000  355.000000  355.000000  355.000000  355.000000   \nmean    16.698592    2.740845    2.540845    1.430986    2.028169    0.501408   \nstd      1.274200    1.092033    1.079022    0.695139    0.829741    2.481997   \nmin     15.000000    0.000000    0.000000    1.000000    1.000000    0.000000   \n25%     16.000000    2.000000    2.000000    1.000000    1.000000    0.000000   \n50%     17.000000    3.000000    3.000000    1.000000    2.000000    0.000000   \n75%     18.000000    4.000000    3.000000    2.000000    2.000000    0.000000   \nmax     22.000000    4.000000    4.000000    4.000000    4.000000   33.000000   \n\n           famrel    freetime       goout        Dalc        Walc      health  \\\ncount  333.000000  355.000000  355.000000  355.000000  355.000000  355.000000   \nmean     3.939940    3.492958    3.138028    1.484507    2.332394    3.557746   \nstd      0.903138    3.904485    1.127765    0.880846    1.294030    1.403754   \nmin      1.000000    1.000000    1.000000    1.000000    1.000000    1.000000   \n25%      4.000000    3.000000    2.000000    1.000000    1.000000    3.000000   \n50%      4.000000    3.000000    3.000000    1.000000    2.000000    4.000000   \n75%      5.000000    4.000000    4.000000    2.000000    3.000000    5.000000   \nmax      5.000000   56.000000    5.000000    5.000000    5.000000    5.000000   \n\n         absences          G1          G2          G3  \ncount  355.000000  355.000000  355.000000  355.000000  \nmean     5.667606    3.734507    3.673944    3.603521  \nstd      8.126955    0.815917    0.933444    1.133881  \nmin     -1.000000    2.250000    1.000000    1.000000  \n25%      0.000000    3.000000    3.250000    3.250000  \n50%      4.000000    3.750000    3.750000    3.750000  \n75%      8.000000    4.250000    4.250000    4.250000  \nmax     75.000000    5.750000    5.750000    6.000000  ",
      "text/html": "<div>\n<style scoped>\n    .dataframe tbody tr th:only-of-type {\n        vertical-align: middle;\n    }\n\n    .dataframe tbody tr th {\n        vertical-align: top;\n    }\n\n    .dataframe thead th {\n        text-align: right;\n    }\n</style>\n<table border=\"1\" class=\"dataframe\">\n  <thead>\n    <tr style=\"text-align: right;\">\n      <th></th>\n      <th>age</th>\n      <th>Medu</th>\n      <th>Fedu</th>\n      <th>traveltime</th>\n      <th>studytime</th>\n      <th>failures</th>\n      <th>famrel</th>\n      <th>freetime</th>\n      <th>goout</th>\n      <th>Dalc</th>\n      <th>Walc</th>\n      <th>health</th>\n      <th>absences</th>\n      <th>G1</th>\n      <th>G2</th>\n      <th>G3</th>\n    </tr>\n  </thead>\n  <tbody>\n    <tr>\n      <th>count</th>\n      <td>355.000000</td>\n      <td>355.000000</td>\n      <td>355.000000</td>\n      <td>355.000000</td>\n      <td>355.000000</td>\n      <td>355.000000</td>\n      <td>333.000000</td>\n      <td>355.000000</td>\n      <td>355.000000</td>\n      <td>355.000000</td>\n      <td>355.000000</td>\n      <td>355.000000</td>\n      <td>355.000000</td>\n      <td>355.000000</td>\n      <td>355.000000</td>\n      <td>355.000000</td>\n    </tr>\n    <tr>\n      <th>mean</th>\n      <td>16.698592</td>\n      <td>2.740845</td>\n      <td>2.540845</td>\n      <td>1.430986</td>\n      <td>2.028169</td>\n      <td>0.501408</td>\n      <td>3.939940</td>\n      <td>3.492958</td>\n      <td>3.138028</td>\n      <td>1.484507</td>\n      <td>2.332394</td>\n      <td>3.557746</td>\n      <td>5.667606</td>\n      <td>3.734507</td>\n      <td>3.673944</td>\n      <td>3.603521</td>\n    </tr>\n    <tr>\n      <th>std</th>\n      <td>1.274200</td>\n      <td>1.092033</td>\n      <td>1.079022</td>\n      <td>0.695139</td>\n      <td>0.829741</td>\n      <td>2.481997</td>\n      <td>0.903138</td>\n      <td>3.904485</td>\n      <td>1.127765</td>\n      <td>0.880846</td>\n      <td>1.294030</td>\n      <td>1.403754</td>\n      <td>8.126955</td>\n      <td>0.815917</td>\n      <td>0.933444</td>\n      <td>1.133881</td>\n    </tr>\n    <tr>\n      <th>min</th>\n      <td>15.000000</td>\n      <td>0.000000</td>\n      <td>0.000000</td>\n      <td>1.000000</td>\n      <td>1.000000</td>\n      <td>0.000000</td>\n      <td>1.000000</td>\n      <td>1.000000</td>\n      <td>1.000000</td>\n      <td>1.000000</td>\n      <td>1.000000</td>\n      <td>1.000000</td>\n      <td>-1.000000</td>\n      <td>2.250000</td>\n      <td>1.000000</td>\n      <td>1.000000</td>\n    </tr>\n    <tr>\n      <th>25%</th>\n      <td>16.000000</td>\n      <td>2.000000</td>\n      <td>2.000000</td>\n      <td>1.000000</td>\n      <td>1.000000</td>\n      <td>0.000000</td>\n      <td>4.000000</td>\n      <td>3.000000</td>\n      <td>2.000000</td>\n      <td>1.000000</td>\n      <td>1.000000</td>\n      <td>3.000000</td>\n      <td>0.000000</td>\n      <td>3.000000</td>\n      <td>3.250000</td>\n      <td>3.250000</td>\n    </tr>\n    <tr>\n      <th>50%</th>\n      <td>17.000000</td>\n      <td>3.000000</td>\n      <td>3.000000</td>\n      <td>1.000000</td>\n      <td>2.000000</td>\n      <td>0.000000</td>\n      <td>4.000000</td>\n      <td>3.000000</td>\n      <td>3.000000</td>\n      <td>1.000000</td>\n      <td>2.000000</td>\n      <td>4.000000</td>\n      <td>4.000000</td>\n      <td>3.750000</td>\n      <td>3.750000</td>\n      <td>3.750000</td>\n    </tr>\n    <tr>\n      <th>75%</th>\n      <td>18.000000</td>\n      <td>4.000000</td>\n      <td>3.000000</td>\n      <td>2.000000</td>\n      <td>2.000000</td>\n      <td>0.000000</td>\n      <td>5.000000</td>\n      <td>4.000000</td>\n      <td>4.000000</td>\n      <td>2.000000</td>\n      <td>3.000000</td>\n      <td>5.000000</td>\n      <td>8.000000</td>\n      <td>4.250000</td>\n      <td>4.250000</td>\n      <td>4.250000</td>\n    </tr>\n    <tr>\n      <th>max</th>\n      <td>22.000000</td>\n      <td>4.000000</td>\n      <td>4.000000</td>\n      <td>4.000000</td>\n      <td>4.000000</td>\n      <td>33.000000</td>\n      <td>5.000000</td>\n      <td>56.000000</td>\n      <td>5.000000</td>\n      <td>5.000000</td>\n      <td>5.000000</td>\n      <td>5.000000</td>\n      <td>75.000000</td>\n      <td>5.750000</td>\n      <td>5.750000</td>\n      <td>6.000000</td>\n    </tr>\n  </tbody>\n</table>\n</div>"
     },
     "execution_count": 43,
     "metadata": {},
     "output_type": "execute_result"
    }
   ]
  },
  {
   "metadata": {
    "trusted": true
   },
   "cell_type": "code",
   "source": [
    "X_train = train_data.drop(columns='G3')\n",
    "y_train = train_data['G3']\n",
    "\n",
    "X_train, X_dev, y_train, y_dev = train_test_split(X_train, y_train, test_size=0.1)"
   ],
   "execution_count": 44,
   "outputs": []
  },
  {
   "metadata": {},
   "cell_type": "markdown",
   "source": [
    "## data analysis"
   ]
  },
  {
   "metadata": {
    "trusted": true
   },
   "cell_type": "code",
   "source": [
    "# TODO "
   ],
   "execution_count": 45,
   "outputs": []
  },
  {
   "metadata": {},
   "cell_type": "markdown",
   "source": [
    "## define and train model**"
   ]
  },
  {
   "metadata": {
    "trusted": true
   },
   "cell_type": "code",
   "source": [
    "# TODO"
   ],
   "execution_count": 46,
   "outputs": []
  },
  {
   "metadata": {},
   "cell_type": "markdown",
   "source": [
    "## Predict and evaluate prices for dev set"
   ]
  },
  {
   "metadata": {
    "trusted": true
   },
   "cell_type": "code",
   "source": [
    "y_dev_pred = np.full(X_dev.shape[0], y_train.mean())"
   ],
   "execution_count": 47,
   "outputs": []
  },
  {
   "metadata": {
    "trusted": true
   },
   "cell_type": "code",
   "source": [
    "mean_absolute_error(y_dev, y_dev_pred)"
   ],
   "execution_count": 48,
   "outputs": [
    {
     "data": {
      "text/plain": "0.6811868686868688"
     },
     "execution_count": 48,
     "metadata": {},
     "output_type": "execute_result"
    }
   ]
  },
  {
   "metadata": {
    "trusted": true
   },
   "cell_type": "code",
   "source": [
    "X_test = pd.read_csv(\"test-data.csv\", index_col=0)"
   ],
   "execution_count": 49,
   "outputs": []
  },
  {
   "metadata": {
    "trusted": true
   },
   "cell_type": "code",
   "source": [
    "X_test.describe()"
   ],
   "execution_count": 50,
   "outputs": [
    {
     "data": {
      "text/plain": "             age       Medu      Fedu  traveltime  studytime   failures  \\\ncount  40.000000  40.000000  40.00000   40.000000  40.000000  40.000000   \nmean   16.675000   2.825000   2.35000    1.600000   2.100000   1.775000   \nstd     1.308503   1.129727   1.16685    0.708918   0.928191   7.043773   \nmin    15.000000   0.000000   0.00000    1.000000   1.000000   0.000000   \n25%    16.000000   2.000000   1.00000    1.000000   1.000000   0.000000   \n50%    16.500000   3.000000   2.00000    1.500000   2.000000   0.000000   \n75%    18.000000   4.000000   3.00000    2.000000   3.000000   0.000000   \nmax    20.000000   4.000000   4.00000    4.000000   4.000000  33.000000   \n\n          famrel   freetime      goout       Dalc       Walc     health  \\\ncount  18.000000  40.000000  40.000000  40.000000  40.000000  40.000000   \nmean    4.000000   5.800000   2.850000   1.450000   1.925000   3.525000   \nstd     0.840168  11.126775   0.948683   0.985797   1.185111   1.280775   \nmin     2.000000   2.000000   1.000000   1.000000   1.000000   1.000000   \n25%     4.000000   3.000000   2.000000   1.000000   1.000000   3.000000   \n50%     4.000000   3.000000   3.000000   1.000000   1.000000   4.000000   \n75%     4.750000   4.000000   3.250000   1.000000   3.000000   5.000000   \nmax     5.000000  56.000000   5.000000   5.000000   5.000000   5.000000   \n\n        absences  \ncount  40.000000  \nmean    2.650000  \nstd     6.735098  \nmin    -1.000000  \n25%    -1.000000  \n50%     0.000000  \n75%     3.000000  \nmax    38.000000  ",
      "text/html": "<div>\n<style scoped>\n    .dataframe tbody tr th:only-of-type {\n        vertical-align: middle;\n    }\n\n    .dataframe tbody tr th {\n        vertical-align: top;\n    }\n\n    .dataframe thead th {\n        text-align: right;\n    }\n</style>\n<table border=\"1\" class=\"dataframe\">\n  <thead>\n    <tr style=\"text-align: right;\">\n      <th></th>\n      <th>age</th>\n      <th>Medu</th>\n      <th>Fedu</th>\n      <th>traveltime</th>\n      <th>studytime</th>\n      <th>failures</th>\n      <th>famrel</th>\n      <th>freetime</th>\n      <th>goout</th>\n      <th>Dalc</th>\n      <th>Walc</th>\n      <th>health</th>\n      <th>absences</th>\n    </tr>\n  </thead>\n  <tbody>\n    <tr>\n      <th>count</th>\n      <td>40.000000</td>\n      <td>40.000000</td>\n      <td>40.00000</td>\n      <td>40.000000</td>\n      <td>40.000000</td>\n      <td>40.000000</td>\n      <td>18.000000</td>\n      <td>40.000000</td>\n      <td>40.000000</td>\n      <td>40.000000</td>\n      <td>40.000000</td>\n      <td>40.000000</td>\n      <td>40.000000</td>\n    </tr>\n    <tr>\n      <th>mean</th>\n      <td>16.675000</td>\n      <td>2.825000</td>\n      <td>2.35000</td>\n      <td>1.600000</td>\n      <td>2.100000</td>\n      <td>1.775000</td>\n      <td>4.000000</td>\n      <td>5.800000</td>\n      <td>2.850000</td>\n      <td>1.450000</td>\n      <td>1.925000</td>\n      <td>3.525000</td>\n      <td>2.650000</td>\n    </tr>\n    <tr>\n      <th>std</th>\n      <td>1.308503</td>\n      <td>1.129727</td>\n      <td>1.16685</td>\n      <td>0.708918</td>\n      <td>0.928191</td>\n      <td>7.043773</td>\n      <td>0.840168</td>\n      <td>11.126775</td>\n      <td>0.948683</td>\n      <td>0.985797</td>\n      <td>1.185111</td>\n      <td>1.280775</td>\n      <td>6.735098</td>\n    </tr>\n    <tr>\n      <th>min</th>\n      <td>15.000000</td>\n      <td>0.000000</td>\n      <td>0.00000</td>\n      <td>1.000000</td>\n      <td>1.000000</td>\n      <td>0.000000</td>\n      <td>2.000000</td>\n      <td>2.000000</td>\n      <td>1.000000</td>\n      <td>1.000000</td>\n      <td>1.000000</td>\n      <td>1.000000</td>\n      <td>-1.000000</td>\n    </tr>\n    <tr>\n      <th>25%</th>\n      <td>16.000000</td>\n      <td>2.000000</td>\n      <td>1.00000</td>\n      <td>1.000000</td>\n      <td>1.000000</td>\n      <td>0.000000</td>\n      <td>4.000000</td>\n      <td>3.000000</td>\n      <td>2.000000</td>\n      <td>1.000000</td>\n      <td>1.000000</td>\n      <td>3.000000</td>\n      <td>-1.000000</td>\n    </tr>\n    <tr>\n      <th>50%</th>\n      <td>16.500000</td>\n      <td>3.000000</td>\n      <td>2.00000</td>\n      <td>1.500000</td>\n      <td>2.000000</td>\n      <td>0.000000</td>\n      <td>4.000000</td>\n      <td>3.000000</td>\n      <td>3.000000</td>\n      <td>1.000000</td>\n      <td>1.000000</td>\n      <td>4.000000</td>\n      <td>0.000000</td>\n    </tr>\n    <tr>\n      <th>75%</th>\n      <td>18.000000</td>\n      <td>4.000000</td>\n      <td>3.00000</td>\n      <td>2.000000</td>\n      <td>3.000000</td>\n      <td>0.000000</td>\n      <td>4.750000</td>\n      <td>4.000000</td>\n      <td>3.250000</td>\n      <td>1.000000</td>\n      <td>3.000000</td>\n      <td>5.000000</td>\n      <td>3.000000</td>\n    </tr>\n    <tr>\n      <th>max</th>\n      <td>20.000000</td>\n      <td>4.000000</td>\n      <td>4.00000</td>\n      <td>4.000000</td>\n      <td>4.000000</td>\n      <td>33.000000</td>\n      <td>5.000000</td>\n      <td>56.000000</td>\n      <td>5.000000</td>\n      <td>5.000000</td>\n      <td>5.000000</td>\n      <td>5.000000</td>\n      <td>38.000000</td>\n    </tr>\n  </tbody>\n</table>\n</div>"
     },
     "execution_count": 50,
     "metadata": {},
     "output_type": "execute_result"
    }
   ]
  },
  {
   "metadata": {
    "trusted": true
   },
   "cell_type": "code",
   "source": [
    "y_test_pred = np.full(X_test.shape[0], y_train.mean())"
   ],
   "execution_count": 51,
   "outputs": []
  },
  {
   "metadata": {
    "trusted": true
   },
   "cell_type": "code",
   "source": [
    "X_test_submission = pd.DataFrame(index=X_test.index)\n",
    "X_test_submission['G3'] = y_test_pred\n",
    "X_test_submission.to_csv('baseline_submission.csv', header=True, index_label='id')"
   ],
   "execution_count": 52,
   "outputs": []
  }
 ],
 "metadata": {
  "kernelspec": {
   "name": "python3",
   "display_name": "Python 3",
   "language": "python"
  },
  "language_info": {
   "name": "python",
   "version": "3.7.6",
   "mimetype": "text/x-python",
   "codemirror_mode": {
    "name": "ipython",
    "version": 3
   },
   "pygments_lexer": "ipython3",
   "nbconvert_exporter": "python",
   "file_extension": ".py"
  }
 },
 "nbformat": 4,
 "nbformat_minor": 4
}